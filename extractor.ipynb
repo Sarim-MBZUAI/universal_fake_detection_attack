{
 "cells": [
  {
   "cell_type": "code",
   "execution_count": 1,
   "metadata": {},
   "outputs": [
    {
     "name": "stderr",
     "output_type": "stream",
     "text": [
      "/tmp/slurm-sarim.hashmi-67598/ipykernel_2299987/3954184372.py:9: FutureWarning: You are using `torch.load` with `weights_only=False` (the current default value), which uses the default pickle module implicitly. It is possible to construct malicious pickle data which will execute arbitrary code during unpickling (See https://github.com/pytorch/pytorch/blob/main/SECURITY.md#untrusted-models for more details). In a future release, the default value for `weights_only` will be flipped to `True`. This limits the functions that could be executed during unpickling. Arbitrary objects will no longer be allowed to be loaded via this mode unless they are explicitly allowlisted by the user via `torch.serialization.add_safe_globals`. We recommend you start setting `weights_only=True` for any use case where you don't have full control of the loaded file. Please open an issue on GitHub for any issues related to this experimental feature.\n",
      "  checkpoint = torch.load(checkpoint_path, map_location='cpu')\n"
     ]
    },
    {
     "name": "stdout",
     "output_type": "stream",
     "text": [
      "Extracted model weights saved to ./checkpoints/deepfake_detection_experiment/fc_weights.pth\n"
     ]
    }
   ],
   "source": [
    "import torch\n",
    "import os\n",
    "\n",
    "# Path to your saved checkpoint\n",
    "checkpoint_path = './checkpoints/deepfake_detection_experiment/model_epoch_best.pth'\n",
    "output_path = './checkpoints/deepfake_detection_experiment/fc_weights.pth'\n",
    "\n",
    "# Load the full checkpoint\n",
    "checkpoint = torch.load(checkpoint_path, map_location='cpu')\n",
    "\n",
    "# Extract just the model weights\n",
    "if 'model' in checkpoint:\n",
    "    model_state = checkpoint['model']\n",
    "    # Extract just the FC layer weights if needed\n",
    "    # fc_weights = {k: v for k, v in model_state.items() if 'fc' in k}\n",
    "    \n",
    "    # Save the extracted weights\n",
    "    torch.save(model_state, output_path)\n",
    "    print(f\"Extracted model weights saved to {output_path}\")\n",
    "else:\n",
    "    print(\"Unexpected checkpoint format. Keys:\", checkpoint.keys())"
   ]
  },
  {
   "cell_type": "code",
   "execution_count": null,
   "metadata": {},
   "outputs": [],
   "source": []
  }
 ],
 "metadata": {
  "kernelspec": {
   "display_name": "AI702",
   "language": "python",
   "name": "python3"
  },
  "language_info": {
   "codemirror_mode": {
    "name": "ipython",
    "version": 3
   },
   "file_extension": ".py",
   "mimetype": "text/x-python",
   "name": "python",
   "nbconvert_exporter": "python",
   "pygments_lexer": "ipython3",
   "version": "3.12.1"
  }
 },
 "nbformat": 4,
 "nbformat_minor": 2
}
